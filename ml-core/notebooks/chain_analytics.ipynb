{
 "cells": [
  {
   "cell_type": "markdown",
   "metadata": {},
   "source": [
    "# Quantora Chain Analytics\n",
    "Analyze block, transaction, and user activity on Quantora blockchain."
   ]
  },
  {
   "cell_type": "code",
   "execution_count": 1,
   "metadata": {},
   "outputs": [],
   "source": [
    "import pandas as pd\n",
    "import matplotlib.pyplot as plt\n",
    "import sqlite3"
   ]
  },
  {
   "cell_type": "markdown",
   "metadata": {},
   "source": [
    "## Load Block Data"
   ]
  },
  {
   "cell_type": "code",
   "execution_count": 2,
   "metadata": {},
   "outputs": [],
   "source": [
    "conn = sqlite3.connect('../explorer-api/src/data/explorer.db')\n",
    "blocks = pd.read_sql('SELECT * FROM blocks', conn)\n",
    "txs = pd.read_sql('SELECT * FROM transactions', conn)"
   ]
  },
  {
   "cell_type": "markdown",
   "metadata": {},
   "source": [
    "## Visualize Block Production"
   ]
  },
  {
   "cell_type": "code",
   "execution_count": 3,
   "metadata": {},
   "outputs": [],
   "source": [
    "blocks['datetime'] = pd.to_datetime(blocks['timestamp'], unit='s')\n",
    "blocks.set_index('datetime')['height'].plot(title='Block Height Over Time')\n",
    "plt.xlabel('Time')\n",
    "plt.ylabel('Block Height')\n",
    "plt.show()"
   ]
  },
  {
   "cell_type": "markdown",
   "metadata": {},
   "source": [
    "## Transaction Volume Over Time"
   ]
  },
  {
   "cell_type": "code",
   "execution_count": 4,
   "metadata": {},
   "outputs": [],
   "source": [
    "txs['datetime'] = pd.to_datetime(txs['timestamp'], unit='s')\n",
    "txs.set_index('datetime').resample('1H').size().plot(title='Transaction Count per Hour')\n",
    "plt.xlabel('Hour')\n",
    "plt.ylabel('Tx Count')\n",
    "plt.show()"
   ]
  }
 ],
 "metadata": {
  "kernelspec": {
   "display_name": "Python 3",
   "language": "python",
   "name": "python3"
  },
  "language_info": {
   "name": "python",
   "version": ""
  }
 },
 "nbformat": 4,
 "nbformat_minor": 2
}