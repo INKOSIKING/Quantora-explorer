{
 "cells": [
  {
   "cell_type": "markdown",
   "metadata": {},
   "source": [
    "# Order Completion Prediction\n",
    "Predict if an order will be completed using ML pipeline."
   ]
  },
  {
   "cell_type": "code",
   "metadata": {},
   "source": [
    "import pandas as pd\n",
    "from sklearn.ensemble import RandomForestClassifier\n",
    "df = pd.read_csv('../datasets/orders.csv')\n",
    "X = df[['quantity','price']]\n",
    "y = (df['label']=='completed').astype(int)\n",
    "clf = RandomForestClassifier().fit(X, y)\n",
    "clf.predict([[2, 40]])"
   ]
  }
 ],
 "metadata": {},
 "nbformat": 4,
 "nbformat_minor": 2
}